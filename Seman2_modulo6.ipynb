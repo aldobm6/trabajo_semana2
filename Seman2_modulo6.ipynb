{
 "cells": [
  {
   "cell_type": "markdown",
   "metadata": {},
   "source": [
    "# Trabajo Semana 1"
   ]
  },
  {
   "cell_type": "markdown",
   "metadata": {},
   "source": [
    "## Parte 1. Aprendizaje no supervisado: algoritmos de clustering"
   ]
  },
  {
   "cell_type": "markdown",
   "metadata": {},
   "source": [
    "### Generar datasets con make_blobs() para al menos 5 clusters. Dibujarlos y configurar make_blobs() para que los clusters tengan un cierto solapamiento."
   ]
  },
  {
   "cell_type": "code",
   "execution_count": 7,
   "metadata": {},
   "outputs": [
    {
     "data": {
      "image/png": "[encoded data removed]",
      "text/plain": [
       "<matplotlib.figure.Figure at 0x299d517e400>"
      ]
     },
     "metadata": {},
     "output_type": "display_data"
    }
   ],
   "source": [
    "from sklearn.datasets import make_blobs\n",
    "X, y = make_blobs(n_samples=500, centers=5, cluster_std=0.6, random_state=2)\n",
    "\n",
    "import matplotlib.pyplot as plt\n",
    "%matplotlib inline\n",
    "plt.scatter(X[:,0], X[:,1]);"
   ]
  },
  {
   "cell_type": "code",
   "execution_count": 8,
   "metadata": {},
   "outputs": [
    {
     "data": {
      "text/plain": [
       "0.71088866314809263"
      ]
     },
     "execution_count": 8,
     "metadata": {},
     "output_type": "execute_result"
    }
   ],
   "source": [
    "from sklearn import metrics\n",
    "metrics.silhouette_score(X, y, metric='euclidean')"
   ]
  },
  {
   "cell_type": "markdown",
   "metadata": {},
   "source": [
    "### Utilizar el algoritmo KMeans para crear modelos pidiendo que extraiga desde 2 hasta 10 clusters (en general, que se vaya de menos a más de los clusters realmente generados)."
   ]
  },
  {
   "cell_type": "code",
   "execution_count": 9,
   "metadata": {
    "collapsed": true
   },
   "outputs": [],
   "source": [
    "from sklearn.datasets import load_iris\n",
    "dataset = load_iris()"
   ]
  },
  {
   "cell_type": "code",
   "execution_count": 10,
   "metadata": {},
   "outputs": [
    {
     "name": "stdout",
     "output_type": "stream",
     "text": [
      "Cluser 2 : 0.539921829421\n",
      "Cluser 3 : 0.730238272283\n",
      "Cluser 4 : 0.649817685382\n",
      "Cluser 5 : 0.607896465236\n",
      "Cluser 6 : 0.446168355648\n",
      "Cluser 7 : 0.472428673228\n",
      "Cluser 8 : 0.438902735143\n",
      "Cluser 9 : 0.394666094875\n",
      "Cluser 10 : 0.378943814221\n"
     ]
    }
   ],
   "source": [
    "from sklearn import metrics\n",
    "from sklearn.cluster import KMeans\n",
    "\n",
    "modelos=[ KMeans(n_clusters=2),\n",
    "         KMeans(n_clusters=3),\n",
    "         KMeans(n_clusters=4),\n",
    "         KMeans(n_clusters=5),\n",
    "         KMeans(n_clusters=6),\n",
    "         KMeans(n_clusters=7),\n",
    "         KMeans(n_clusters=8),\n",
    "         KMeans(n_clusters=9),\n",
    "         KMeans(n_clusters=10)]\n",
    "\n",
    "n_cluster = 2\n",
    "\n",
    "for nmodelo in modelos:\n",
    "    nmodelo.fit(dataset.data)\n",
    "    print( \"Cluser {} :\".format(n_cluster) ,metrics.adjusted_rand_score(dataset.target, nmodelo.labels_))\n",
    "    n_cluster= n_cluster+1\n"
   ]
  },
  {
   "cell_type": "code",
   "execution_count": 11,
   "metadata": {},
   "outputs": [
    {
     "name": "stdout",
     "output_type": "stream",
     "text": [
      "Silhouette para Cluster 2: 0.680813620271\n",
      "Silhouette para Cluster 3: 0.552591944521\n",
      "Silhouette para Cluster 4: 0.497825690075\n",
      "Silhouette para Cluster 5: 0.488517550854\n",
      "Silhouette para Cluster 6: 0.368205696538\n",
      "Silhouette para Cluster 7: 0.360499221214\n",
      "Silhouette para Cluster 8: 0.357270349229\n",
      "Silhouette para Cluster 9: 0.336883731458\n",
      "Silhouette para Cluster 10: 0.319450949832\n"
     ]
    }
   ],
   "source": [
    "n_cluster = 2\n",
    "for nmodelo in modelos:\n",
    "    mlabels = nmodelo.labels_\n",
    "    print(\"Silhouette para Cluster {}:\".format(n_cluster), metrics.silhouette_score(dataset.data, mlabels, metric='euclidean'))    \n",
    "    n_cluster = n_cluster+1"
   ]
  },
  {
   "cell_type": "markdown",
   "metadata": {},
   "source": [
    "### Evaluar cada uno de los modelos con el Silhoutte score y comentar los resultados, razonando si el score nos ayudaría en un problema real a seleccionar el número de clusters a obtener."
   ]
  },
  {
   "cell_type": "markdown",
   "metadata": {},
   "source": [
    "Realizado despues de cada ejercicio"
   ]
  },
  {
   "cell_type": "markdown",
   "metadata": {},
   "source": [
    "## Parte 2. Aprendizaje no supervisado: reglas de asociación (20%)"
   ]
  },
  {
   "cell_type": "markdown",
   "metadata": {},
   "source": [
    "### Utilizando el Notebook de ejemplo de clase, crear datos de ejemplo de transacciones en una tienda de electrónica para las tareas (2) y (3)."
   ]
  },
  {
   "cell_type": "code",
   "execution_count": null,
   "metadata": {
    "collapsed": true
   },
   "outputs": [],
   "source": []
  },
  {
   "cell_type": "markdown",
   "metadata": {},
   "source": [
    "### Probar diferentes configuraciones de soporte y confianza para extraer reglas significativas, concretamente, alguna regla que tenga en el antecedente más de un ítem."
   ]
  },
  {
   "cell_type": "code",
   "execution_count": null,
   "metadata": {
    "collapsed": true
   },
   "outputs": [],
   "source": []
  },
  {
   "cell_type": "markdown",
   "metadata": {},
   "source": [
    "### Explicar cómo ha calculado internamente el algoritmo el soporte y la confianza para algún caso concreto de regla, numéricamente."
   ]
  },
  {
   "cell_type": "code",
   "execution_count": null,
   "metadata": {
    "collapsed": true
   },
   "outputs": [],
   "source": []
  },
  {
   "cell_type": "code",
   "execution_count": null,
   "metadata": {
    "collapsed": true
   },
   "outputs": [],
   "source": []
  }
 ],
 "metadata": {
  "kernelspec": {
   "display_name": "Python 3",
   "language": "python",
   "name": "python3"
  },
  "language_info": {
   "codemirror_mode": {
    "name": "ipython",
    "version": 3
   },
   "file_extension": ".py",
   "mimetype": "text/x-python",
   "name": "python",
   "nbconvert_exporter": "python",
   "pygments_lexer": "ipython3",
   "version": "3.6.3"
  }
 },
 "nbformat": 4,
 "nbformat_minor": 2
}
